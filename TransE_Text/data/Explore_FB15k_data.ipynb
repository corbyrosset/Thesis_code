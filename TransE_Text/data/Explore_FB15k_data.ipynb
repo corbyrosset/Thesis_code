{
 "cells": [
  {
   "cell_type": "code",
   "execution_count": 3,
   "metadata": {
    "collapsed": false
   },
   "outputs": [],
   "source": [
    "import os\n",
    "import sys\n",
    "import time\n",
    "import copy\n",
    "import cPickle\n",
    "\n",
    "import numpy as np\n",
    "import scipy\n",
    "import scipy.sparse\n",
    "import theano"
   ]
  },
  {
   "cell_type": "code",
   "execution_count": 4,
   "metadata": {
    "collapsed": false
   },
   "outputs": [
    {
     "ename": "SyntaxError",
     "evalue": "invalid syntax (<ipython-input-4-aa8d7f168f21>, line 1)",
     "output_type": "error",
     "traceback": [
      "\u001b[0;36m  File \u001b[0;32m\"<ipython-input-4-aa8d7f168f21>\"\u001b[0;36m, line \u001b[0;32m1\u001b[0m\n\u001b[0;31m    Explore_FB15k_data.ipynb  FB15k-test-rhs.pkl        FB15k-train-rhs.pkl       FB15k-valid-rhs.pkl       explore_comparisons.ipynb\u001b[0m\n\u001b[0m                                  ^\u001b[0m\n\u001b[0;31mSyntaxError\u001b[0m\u001b[0;31m:\u001b[0m invalid syntax\n"
     ]
    }
   ],
   "source": [
    "Explore_FB15k_data.ipynb  FB15k-test-rhs.pkl        FB15k-train-rhs.pkl       FB15k-valid-rhs.pkl       explore_comparisons.ipynb\n",
    "FB15k-test-lhs.pkl        FB15k-train-lhs.pkl       FB15k-valid-lhs.pkl       FB15k_entity2idx.pkl\n",
    "FB15k-test-rel.pkl        FB15k-train-rel.pkl       FB15k-valid-rel.pkl       FB15k_idx2entity.pkl"
   ]
  },
  {
   "cell_type": "code",
   "execution_count": 53,
   "metadata": {
    "collapsed": false
   },
   "outputs": [],
   "source": [
    "datapath = '/Users/corbinrosset/Dropbox/Arora/QA-code/src/TransE_Text/data/'\n",
    "dataset = 'FB15k'\n",
    "neval = 1000\n",
    "\n",
    "def load_file(path):\n",
    "    return scipy.sparse.csr_matrix(cPickle.load(open(path)),\n",
    "            dtype=theano.config.floatX)\n",
    "\n",
    "\n",
    "def convert2idx(spmat):\n",
    "    rows, cols = spmat.nonzero()\n",
    "    return rows[np.argsort(cols)]\n",
    "\n",
    "\n",
    "def load_FB15k_data():\n",
    "    # Positives\n",
    "    trainl = load_file(datapath + dataset + '-train-lhs.pkl') # rows = entities, col are one hot to indicate which is left entity\n",
    "    trainr = load_file(datapath + dataset + '-train-rhs.pkl') # rows = relations, but only in bottom 1,345 rows\n",
    "    traino = load_file(datapath + dataset + '-train-rel.pkl')\n",
    "    print np.shape(trainl)\n",
    "    print np.shape(trainr)\n",
    "    print np.shape(traino)\n",
    "    print type(trainl)\n",
    "\n",
    "    \n",
    "#     print trainl.tocoo()\n",
    "    print traino.tocsc()\n",
    "\n",
    "    \n",
    "    # Valid set\n",
    "    validl = load_file(datapath + dataset + '-valid-lhs.pkl')\n",
    "    validr = load_file(datapath + dataset + '-valid-rhs.pkl')\n",
    "    valido = load_file(datapath + dataset + '-valid-rel.pkl')\n",
    "#     print np.shape(validl)\n",
    "\n",
    "\n",
    "    # Test set\n",
    "    testl = load_file(datapath + dataset + '-test-lhs.pkl')\n",
    "    testr = load_file(datapath + dataset + '-test-rhs.pkl')\n",
    "    testo = load_file(datapath + dataset + '-test-rel.pkl')\n",
    "    \n",
    "\n",
    "    # create list of which rows were hot for each of the 483k columns (each column is one hot)\n",
    "    trainlidx = convert2idx(trainl)[:neval] # extract the first neval left entity examples (just take which row is hot in trainl)\n",
    "    trainridx = convert2idx(trainr)[:neval]\n",
    "    trainoidx = convert2idx(traino)[:neval] # take the rows that are hot in the first neval columns of traino\n",
    "    validlidx = convert2idx(validl)[:neval]\n",
    "    validridx = convert2idx(validr)[:neval]\n",
    "    validoidx = convert2idx(valido)[:neval]\n",
    "    testlidx = convert2idx(testl)[:neval]\n",
    "    testridx = convert2idx(testr)[:neval]\n",
    "    testoidx = convert2idx(testo)[:neval]\n",
    "    \n",
    "#     print np.shape(trainlidx)\n",
    "#     print trainlidx\n",
    "    \n",
    "    idxl = convert2idx(trainl)\n",
    "    idxr = convert2idx(trainr)\n",
    "    idxo = convert2idx(traino)\n",
    "    idxtl = convert2idx(testl)\n",
    "    idxtr = convert2idx(testr)\n",
    "    idxto = convert2idx(testo)\n",
    "    idxvl = convert2idx(validl)\n",
    "    idxvr = convert2idx(validr)\n",
    "    idxvo = convert2idx(valido)\n",
    "    print np.shape(idxl)\n",
    "    print idxl\n",
    "    \n",
    "    true_triples=np.concatenate([idxtl,idxvl,idxl,idxto,idxvo,idxo,idxtr,idxvr,idxr]).reshape(3,idxtl.shape[0]+idxvl.shape[0]+idxl.shape[0]).T\n",
    "    \n",
    "    order = np.random.permutation(trainl.shape[1])\n",
    "    trainl = trainl[:, order]\n",
    "    trainr = trainr[:, order]\n",
    "    traino = traino[:, order]\n",
    "\n",
    "    # Negatives\n",
    "#     trainln = create_random_mat(trainl.shape, np.arange(state.Nsyn))\n",
    "#     trainrn = create_random_mat(trainr.shape, np.arange(state.Nsyn))\n",
    "\n",
    "    batchsize = 100\n",
    "    for i in range(1000):\n",
    "        tmpl = trainl[:, i * batchsize:(i + 1) * batchsize]\n",
    "        tmpr = trainr[:, i * batchsize:(i + 1) * batchsize]\n",
    "        tmpo = traino[:, i * batchsize:(i + 1) * batchsize]\n",
    "#         tmpnl = trainln[:, i * batchsize:(i + 1) * batchsize]\n",
    "#         tmpnr = trainrn[:, i * batchsize:(i + 1) * batchsize]\n",
    "        \n",
    "    print np.shape(tmpl)"
   ]
  },
  {
   "cell_type": "code",
   "execution_count": 54,
   "metadata": {
    "collapsed": false
   },
   "outputs": [
    {
     "name": "stdout",
     "output_type": "stream",
     "text": [
      "(16296, 483142)\n",
      "(16296, 483142)\n",
      "(16296, 483142)\n",
      "<class 'scipy.sparse.csr.csr_matrix'>\n",
      "  (15742, 0)\t1.0\n",
      "  (16224, 1)\t1.0\n",
      "  (15797, 2)\t1.0\n",
      "  (15046, 3)\t1.0\n",
      "  (16051, 4)\t1.0\n",
      "  (16119, 5)\t1.0\n",
      "  (15683, 6)\t1.0\n",
      "  (15550, 7)\t1.0\n",
      "  (16049, 8)\t1.0\n",
      "  (15506, 9)\t1.0\n",
      "  (15037, 10)\t1.0\n",
      "  (15028, 11)\t1.0\n",
      "  (15921, 12)\t1.0\n",
      "  (15041, 13)\t1.0\n",
      "  (15919, 14)\t1.0\n",
      "  (15886, 15)\t1.0\n",
      "  (15031, 16)\t1.0\n",
      "  (15545, 17)\t1.0\n",
      "  (15978, 18)\t1.0\n",
      "  (15050, 19)\t1.0\n",
      "  (15546, 20)\t1.0\n",
      "  (15534, 21)\t1.0\n",
      "  (15041, 22)\t1.0\n",
      "  (15860, 23)\t1.0\n",
      "  (15755, 24)\t1.0\n",
      "  :\t:\n",
      "  (15978, 483117)\t1.0\n",
      "  (15917, 483118)\t1.0\n",
      "  (15045, 483119)\t1.0\n",
      "  (15864, 483120)\t1.0\n",
      "  (16039, 483121)\t1.0\n",
      "  (15578, 483122)\t1.0\n",
      "  (15871, 483123)\t1.0\n",
      "  (15167, 483124)\t1.0\n",
      "  (15889, 483125)\t1.0\n",
      "  (15137, 483126)\t1.0\n",
      "  (15049, 483127)\t1.0\n",
      "  (15798, 483128)\t1.0\n",
      "  (15335, 483129)\t1.0\n",
      "  (15576, 483130)\t1.0\n",
      "  (15710, 483131)\t1.0\n",
      "  (15978, 483132)\t1.0\n",
      "  (15545, 483133)\t1.0\n",
      "  (15869, 483134)\t1.0\n",
      "  (16043, 483135)\t1.0\n",
      "  (15049, 483136)\t1.0\n",
      "  (15037, 483137)\t1.0\n",
      "  (15042, 483138)\t1.0\n",
      "  (15051, 483139)\t1.0\n",
      "  (15981, 483140)\t1.0\n",
      "  (15802, 483141)\t1.0\n",
      "(483142,)\n",
      "[ 3996   950 10093 ...,  8192 13681  6694]\n",
      "(16296, 100)\n"
     ]
    }
   ],
   "source": [
    "load_FB15k_data()"
   ]
  },
  {
   "cell_type": "code",
   "execution_count": 28,
   "metadata": {
    "collapsed": false
   },
   "outputs": [
    {
     "name": "stdout",
     "output_type": "stream",
     "text": [
      "  (0, 0)\t1\n",
      "  (3, 1)\t1\n",
      "  (4, 2)\t1\n",
      "  (5, 3)\t1\n",
      "  (2, 4)\t1\n",
      "  (1, 5)\t1\n",
      "  (0, 6)\t1\n"
     ]
    }
   ],
   "source": [
    "from scipy.sparse import coo_matrix\n",
    "row  = np.array([0, 3, 4, 5, 2, 1, 0])\n",
    "col  = np.array([0, 1, 2, 3, 4, 5, 6])\n",
    "data = np.array([1, 1, 1, 1, 1, 1, 1])\n",
    "print coo_matrix((data, (row, col)), shape=(6, 7))"
   ]
  },
  {
   "cell_type": "code",
   "execution_count": null,
   "metadata": {
    "collapsed": true
   },
   "outputs": [],
   "source": []
  }
 ],
 "metadata": {
  "kernelspec": {
   "display_name": "Python 2",
   "language": "python",
   "name": "python2"
  },
  "language_info": {
   "codemirror_mode": {
    "name": "ipython",
    "version": 2
   },
   "file_extension": ".py",
   "mimetype": "text/x-python",
   "name": "python",
   "nbconvert_exporter": "python",
   "pygments_lexer": "ipython2",
   "version": "2.7.12"
  }
 },
 "nbformat": 4,
 "nbformat_minor": 1
}
