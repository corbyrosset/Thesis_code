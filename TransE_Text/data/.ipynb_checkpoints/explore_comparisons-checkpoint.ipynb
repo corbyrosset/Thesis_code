{
 "cells": [
  {
   "cell_type": "code",
   "execution_count": 29,
   "metadata": {
    "collapsed": true
   },
   "outputs": [],
   "source": [
    "# FB15k-test-rel.pkl\n",
    "# FB15k-train-lhs.pkl\n",
    "# FB15k-train-rhs.pkl\n",
    "# FB15k_idx2entity.pkl\n",
    "# FB15k_entity2idx.pkl\n",
    "\n",
    "import cPickle as pickle\n",
    "import numpy as np\n",
    "import pprint"
   ]
  },
  {
   "cell_type": "code",
   "execution_count": 10,
   "metadata": {
    "collapsed": false
   },
   "outputs": [],
   "source": [
    "rhs = pickle.load(open('FB15k-train-rhs.pkl', 'r')).toarray()\n",
    "lhs = pickle.load(open('FB15k-train-lhs.pkl', 'r')).toarray()\n",
    "rel = pickle.load(open('FB15k-train-rel.pkl', 'r')).toarray()"
   ]
  },
  {
   "cell_type": "code",
   "execution_count": 47,
   "metadata": {
    "collapsed": false
   },
   "outputs": [],
   "source": [
    "import os, sys\n",
    "import cPickle\n",
    "\n",
    "import numpy as np\n",
    "import scipy.sparse as sp\n",
    "\n",
    "# Put the freebase15k data absolute path here\n",
    "datapath = '/Users/corbinrosset/Desktop/QA_datasets/FB15k/'\n",
    "assert datapath is not None\n",
    "\n",
    "if 'data' not in os.listdir('../'):\n",
    "    os.mkdir('../data')\n",
    "\n",
    "\n",
    "def parseline(line):\n",
    "    lhs, rel, rhs = line.split('\\t')\n",
    "    lhs = lhs.split(' ')\n",
    "    rhs = rhs.split(' ')\n",
    "    rel = rel.split(' ')\n",
    "    return lhs, rel, rhs\n",
    "\n",
    "#################################################\n",
    "### Creation of the entities/indices dictionnaries\n",
    "\n",
    "np.random.seed(753)\n",
    "\n",
    "entities1 = set([])\n",
    "entleftlist = []\n",
    "entrightlist = []\n",
    "rellist = []\n",
    "relset1 = set([])\n",
    "\n",
    "for datatyp in ['train']:\n",
    "    f = open(datapath + 'freebase_mtr100_mte100-%s.txt' % datatyp, 'r')\n",
    "    dat = f.readlines()\n",
    "    f.close()\n",
    "    for i in dat:\n",
    "        lhs, rel, rhs = parseline(i[:-1])\n",
    "        entleftlist += [lhs[0]]\n",
    "        entrightlist += [rhs[0]]\n",
    "        rellist += [rel[0]]\n",
    "        \n",
    "        rel = rel[0].replace('/', '.').strip('.')\n",
    "        if '..' in rel:\n",
    "            temp = rel.split('..')\n",
    "            relset1.add(temp[0])\n",
    "            relset1.add(temp[1])\n",
    "        else:\n",
    "            relset1.add(rel)\n",
    "        \n",
    "        entities1.add(lhs[0].replace('/', '.').strip('.'))\n",
    "        entities1.add(rhs[0].replace('/', '.').strip('.'))\n",
    "\n",
    "entleftset = np.sort(list(set(entleftlist) - set(entrightlist)))\n",
    "entsharedset = np.sort(list(set(entleftlist) & set(entrightlist)))\n",
    "entrightset = np.sort(list(set(entrightlist) - set(entleftlist)))\n",
    "relset = np.sort(list(set(rellist)))\n",
    "\n"
   ]
  },
  {
   "cell_type": "code",
   "execution_count": 48,
   "metadata": {
    "collapsed": false
   },
   "outputs": [
    {
     "name": "stdout",
     "output_type": "stream",
     "text": [
      "Comparing Relationships between FB15k and Clueweb Triples...\n",
      "\tTotal number of relationships (triples have many instances, and a given textual instance may express up to 2 relationships): 195792926\n",
      "\tFB15k relationship cardinality: 1389\n",
      "\tClueweb relationship cardinality: 6549\n",
      "\tcommon relationships between FB15k and Clueweb: 1328\n",
      "\tNumber of textual instances expressing a common relationship: 177567142\n",
      "Comparing Entities between FB15k and Clueweb...\n",
      "\tTotal number of entities mentioned (each triple has two entities): 267068018\n",
      "\tTotal number of textual instances (half of the above): 133534009\n",
      "\tCardinality of Clueweb entities: 895829\n",
      "\tCardinality of FB15k entities: 14951\n",
      "\tcommon entities between FB15k and Clueweb: 14003\n",
      "\tNumber of textual instances expressing at least one common entity: 210231218\n"
     ]
    }
   ],
   "source": [
    "# todo: filter clueweb triples to include only those available in FB15k...\n",
    "###############################################################################\n",
    "###         Global Settings and Paths  for Clueweb Data                     ###\n",
    "###############################################################################\n",
    "\n",
    "\n",
    "data_path = '/Users/corbinrosset/Dropbox/Arora/QA-data/VanDurme_FB_annotations/annotated_clueweb/ClueWeb09_English_1/processed/'\n",
    "execute_path = '/Users/corbinrosset/Dropbox/Arora/QA-code/src/process_clueweb/'\n",
    "manifest_file = 'manifest.txt'\n",
    "\n",
    "### relationship similarities:\n",
    "print 'Comparing Relationships between FB15k and Clueweb Triples...'\n",
    "rltn_freq = pickle.load(open(data_path + 'rltn_freq.pkl', 'r'))\n",
    "relset2 =  set(rltn_freq.keys())\n",
    "total_clueweb_triples = sum(rltn_freq.values())\n",
    "print '\\tTotal number of relationships (triples have many instances, and a given textual instance may express up to 2 relationships): ' + str(total_clueweb_triples)\n",
    "\n",
    "overlap_rel = relset1 & relset2\n",
    "print '\\tFB15k relationship cardinality: ' + str(len(relset1))\n",
    "print '\\tClueweb relationship cardinality: ' + str(len(relset2))\n",
    "sym_dif = relset1 ^ relset2\n",
    "diff1 = relset2 - relset1\n",
    "diff2 = relset1 - relset2\n",
    "print '\\tcommon relationships between FB15k and Clueweb: ' + str(len(overlap_rel))\n",
    "print '\\tNumber of textual instances expressing a common relationship: ' + str(sum([rltn_freq[i] for i in overlap_rel])) \n",
    "# pprint.pprint(diff2)\n",
    "\n",
    "\n",
    "### entities\n",
    "print 'Comparing Entities between FB15k and Clueweb...'\n",
    "enty_freq = pickle.load(open(data_path + 'enty_id_freq.pkl', 'r'))\n",
    "entities2 = set(enty_freq.keys())\n",
    "total_entity_mentions = sum(enty_freq.values())\n",
    "print '\\tTotal number of entities mentioned (each triple has two entities): ' + str(total_entity_mentions)\n",
    "print '\\tTotal number of textual instances (half of the above): ' + str(total_entity_mentions/2)\n",
    "print '\\tCardinality of Clueweb entities: ' + str(len(entities2))\n",
    "print '\\tCardinality of FB15k entities: ' + str(len(entities1))\n",
    "\n",
    "overlap_enty = entities1 & entities2\n",
    "sym_dif = entities1 ^ entities2\n",
    "diff1 = entities2 - entities1\n",
    "diff2 = entities1 - entities2\n",
    "print '\\tcommon entities between FB15k and Clueweb: ' + str(len(overlap_enty))\n",
    "print '\\tNumber of textual instances expressing at least one common entity: ' + str(sum([enty_freq[i] for i in overlap_enty])) \n",
    "# pprint.pprint(diff2)\n"
   ]
  },
  {
   "cell_type": "code",
   "execution_count": null,
   "metadata": {
    "collapsed": true
   },
   "outputs": [],
   "source": []
  }
 ],
 "metadata": {
  "kernelspec": {
   "display_name": "Python 2",
   "language": "python",
   "name": "python2"
  },
  "language_info": {
   "codemirror_mode": {
    "name": "ipython",
    "version": 2
   },
   "file_extension": ".py",
   "mimetype": "text/x-python",
   "name": "python",
   "nbconvert_exporter": "python",
   "pygments_lexer": "ipython2",
   "version": "2.7.12"
  }
 },
 "nbformat": 4,
 "nbformat_minor": 1
}
