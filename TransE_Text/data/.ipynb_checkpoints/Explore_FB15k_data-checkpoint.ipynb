{
 "cells": [
  {
   "cell_type": "code",
   "execution_count": 3,
   "metadata": {
    "collapsed": false
   },
   "outputs": [],
   "source": [
    "import os\n",
    "import sys\n",
    "import time\n",
    "import copy\n",
    "import cPickle\n",
    "\n",
    "import numpy as np\n",
    "import scipy\n",
    "import scipy.sparse\n",
    "import theano"
   ]
  },
  {
   "cell_type": "code",
   "execution_count": 4,
   "metadata": {
    "collapsed": false
   },
   "outputs": [
    {
     "ename": "SyntaxError",
     "evalue": "invalid syntax (<ipython-input-4-aa8d7f168f21>, line 1)",
     "output_type": "error",
     "traceback": [
      "\u001b[0;36m  File \u001b[0;32m\"<ipython-input-4-aa8d7f168f21>\"\u001b[0;36m, line \u001b[0;32m1\u001b[0m\n\u001b[0;31m    Explore_FB15k_data.ipynb  FB15k-test-rhs.pkl        FB15k-train-rhs.pkl       FB15k-valid-rhs.pkl       explore_comparisons.ipynb\u001b[0m\n\u001b[0m                                  ^\u001b[0m\n\u001b[0;31mSyntaxError\u001b[0m\u001b[0;31m:\u001b[0m invalid syntax\n"
     ]
    }
   ],
   "source": [
    "Explore_FB15k_data.ipynb  FB15k-test-rhs.pkl        FB15k-train-rhs.pkl       FB15k-valid-rhs.pkl       explore_comparisons.ipynb\n",
    "FB15k-test-lhs.pkl        FB15k-train-lhs.pkl       FB15k-valid-lhs.pkl       FB15k_entity2idx.pkl\n",
    "FB15k-test-rel.pkl        FB15k-train-rel.pkl       FB15k-valid-rel.pkl       FB15k_idx2entity.pkl"
   ]
  },
  {
   "cell_type": "code",
   "execution_count": 31,
   "metadata": {
    "collapsed": true
   },
   "outputs": [],
   "source": [
    "datapath = '/Users/corbinrosset/Dropbox/Arora/QA-code/src/TransE_Text/data/'\n",
    "dataset = 'FB15k'\n",
    "neval = 1000\n",
    "\n",
    "def load_file(path):\n",
    "    return scipy.sparse.csr_matrix(cPickle.load(open(path)),\n",
    "            dtype=theano.config.floatX)\n",
    "\n",
    "\n",
    "def convert2idx(spmat):\n",
    "    rows, cols = spmat.nonzero()\n",
    "    return rows[np.argsort(cols)]\n",
    "\n",
    "\n",
    "def load_FB15k_data():\n",
    "    # Positives\n",
    "    trainl = load_file(datapath + dataset + '-train-lhs.pkl')\n",
    "    trainr = load_file(datapath + dataset + '-train-rhs.pkl')\n",
    "    traino = load_file(datapath + dataset + '-train-rel.pkl')\n",
    "    print np.shape(trainl)\n",
    "    print np.shape(trainr)\n",
    "    print np.shape(traino)\n",
    "    print type(trainl)\n",
    "\n",
    "    \n",
    "#     print trainl.tocoo()\n",
    "#     print trainl.tocsc()\n",
    "\n",
    "    \n",
    "    # Valid set\n",
    "    validl = load_file(datapath + dataset + '-valid-lhs.pkl')\n",
    "    validr = load_file(datapath + dataset + '-valid-rhs.pkl')\n",
    "    valido = load_file(datapath + dataset + '-valid-rel.pkl')\n",
    "#     print np.shape(validl)\n",
    "\n",
    "\n",
    "    # Test set\n",
    "    testl = load_file(datapath + dataset + '-test-lhs.pkl')\n",
    "    testr = load_file(datapath + dataset + '-test-rhs.pkl')\n",
    "    testo = load_file(datapath + dataset + '-test-rel.pkl')\n",
    "    \n",
    "\n",
    "    # Index conversion\n",
    "    trainlidx = convert2idx(trainl)[:state.neval]\n",
    "    trainridx = convert2idx(trainr)[:state.neval]\n",
    "    trainoidx = convert2idx(traino)[:state.neval]\n",
    "    validlidx = convert2idx(validl)[:state.neval]\n",
    "    validridx = convert2idx(validr)[:state.neval]\n",
    "    validoidx = convert2idx(valido)[:state.neval]\n",
    "    testlidx = convert2idx(testl)[:state.neval]\n",
    "    testridx = convert2idx(testr)[:state.neval]\n",
    "    testoidx = convert2idx(testo)[:state.neval]\n",
    "    \n",
    "    print np.shape(trainlidx)\n",
    "    \n",
    "    idxl = convert2idx(trainl)\n",
    "    idxr = convert2idx(trainr)\n",
    "    idxo = convert2idx(traino)\n",
    "    idxtl = convert2idx(testl)\n",
    "    idxtr = convert2idx(testr)\n",
    "    idxto = convert2idx(testo)\n",
    "    idxvl = convert2idx(validl)\n",
    "    idxvr = convert2idx(validr)\n",
    "    idxvo = convert2idx(valido)\n",
    "    \n",
    "    true_triples=np.concatenate([idxtl,idxvl,idxl,idxto,idxvo,idxo,idxtr,idxvr,idxr]).reshape(3,idxtl.shape[0]+idxvl.shape[0]+idxl.shape[0]).T\n",
    "    \n",
    "    order = np.random.permutation(model.trainl.shape[1])\n",
    "    trainl = trainl[:, order]\n",
    "    trainr = trainr[:, order]\n",
    "    traino = traino[:, order]\n",
    "\n",
    "    # Negatives\n",
    "    trainln = create_random_mat(model.trainl.shape, np.arange(state.Nsyn))\n",
    "    trainrn = create_random_mat(model.trainr.shape, np.arange(state.Nsyn))\n",
    "\n",
    "    for i in range(state.nbatches):\n",
    "        tmpl = trainl[:, i * batchsize:(i + 1) * batchsize]\n",
    "        tmpr = trainr[:, i * batchsize:(i + 1) * batchsize]\n",
    "        tmpo = traino[:, i * batchsize:(i + 1) * batchsize]\n",
    "        tmpnl = trainln[:, i * batchsize:(i + 1) * batchsize]\n",
    "        tmpnr = trainrn[:, i * batchsize:(i + 1) * batchsize]\n"
   ]
  },
  {
   "cell_type": "code",
   "execution_count": 32,
   "metadata": {
    "collapsed": false
   },
   "outputs": [
    {
     "name": "stdout",
     "output_type": "stream",
     "text": [
      "(16296, 483142)\n",
      "(16296, 483142)\n",
      "(16296, 483142)\n",
      "<class 'scipy.sparse.csr.csr_matrix'>\n"
     ]
    },
    {
     "ename": "NameError",
     "evalue": "global name 'state' is not defined",
     "output_type": "error",
     "traceback": [
      "\u001b[0;31m---------------------------------------------------------------------------\u001b[0m",
      "\u001b[0;31mNameError\u001b[0m                                 Traceback (most recent call last)",
      "\u001b[0;32m<ipython-input-32-ccafbec7a765>\u001b[0m in \u001b[0;36m<module>\u001b[0;34m()\u001b[0m\n\u001b[0;32m----> 1\u001b[0;31m \u001b[0mload_FB15k_data\u001b[0m\u001b[0;34m(\u001b[0m\u001b[0;34m)\u001b[0m\u001b[0;34m\u001b[0m\u001b[0m\n\u001b[0m",
      "\u001b[0;32m<ipython-input-31-4b81150d3ce2>\u001b[0m in \u001b[0;36mload_FB15k_data\u001b[0;34m()\u001b[0m\n\u001b[1;32m     41\u001b[0m \u001b[0;34m\u001b[0m\u001b[0m\n\u001b[1;32m     42\u001b[0m     \u001b[0;31m# Index conversion\u001b[0m\u001b[0;34m\u001b[0m\u001b[0;34m\u001b[0m\u001b[0m\n\u001b[0;32m---> 43\u001b[0;31m     \u001b[0mtrainlidx\u001b[0m \u001b[0;34m=\u001b[0m \u001b[0mconvert2idx\u001b[0m\u001b[0;34m(\u001b[0m\u001b[0mtrainl\u001b[0m\u001b[0;34m)\u001b[0m\u001b[0;34m[\u001b[0m\u001b[0;34m:\u001b[0m\u001b[0mstate\u001b[0m\u001b[0;34m.\u001b[0m\u001b[0mneval\u001b[0m\u001b[0;34m]\u001b[0m\u001b[0;34m\u001b[0m\u001b[0m\n\u001b[0m\u001b[1;32m     44\u001b[0m     \u001b[0mtrainridx\u001b[0m \u001b[0;34m=\u001b[0m \u001b[0mconvert2idx\u001b[0m\u001b[0;34m(\u001b[0m\u001b[0mtrainr\u001b[0m\u001b[0;34m)\u001b[0m\u001b[0;34m[\u001b[0m\u001b[0;34m:\u001b[0m\u001b[0mstate\u001b[0m\u001b[0;34m.\u001b[0m\u001b[0mneval\u001b[0m\u001b[0;34m]\u001b[0m\u001b[0;34m\u001b[0m\u001b[0m\n\u001b[1;32m     45\u001b[0m     \u001b[0mtrainoidx\u001b[0m \u001b[0;34m=\u001b[0m \u001b[0mconvert2idx\u001b[0m\u001b[0;34m(\u001b[0m\u001b[0mtraino\u001b[0m\u001b[0;34m)\u001b[0m\u001b[0;34m[\u001b[0m\u001b[0;34m:\u001b[0m\u001b[0mstate\u001b[0m\u001b[0;34m.\u001b[0m\u001b[0mneval\u001b[0m\u001b[0;34m]\u001b[0m\u001b[0;34m\u001b[0m\u001b[0m\n",
      "\u001b[0;31mNameError\u001b[0m: global name 'state' is not defined"
     ]
    }
   ],
   "source": [
    "load_FB15k_data()"
   ]
  },
  {
   "cell_type": "code",
   "execution_count": 28,
   "metadata": {
    "collapsed": false
   },
   "outputs": [
    {
     "name": "stdout",
     "output_type": "stream",
     "text": [
      "  (0, 0)\t1\n",
      "  (3, 1)\t1\n",
      "  (4, 2)\t1\n",
      "  (5, 3)\t1\n",
      "  (2, 4)\t1\n",
      "  (1, 5)\t1\n",
      "  (0, 6)\t1\n"
     ]
    }
   ],
   "source": [
    "from scipy.sparse import coo_matrix\n",
    "row  = np.array([0, 3, 4, 5, 2, 1, 0])\n",
    "col  = np.array([0, 1, 2, 3, 4, 5, 6])\n",
    "data = np.array([1, 1, 1, 1, 1, 1, 1])\n",
    "print coo_matrix((data, (row, col)), shape=(6, 7))"
   ]
  },
  {
   "cell_type": "code",
   "execution_count": null,
   "metadata": {
    "collapsed": true
   },
   "outputs": [],
   "source": []
  }
 ],
 "metadata": {
  "kernelspec": {
   "display_name": "Python 2",
   "language": "python",
   "name": "python2"
  },
  "language_info": {
   "codemirror_mode": {
    "name": "ipython",
    "version": 2
   },
   "file_extension": ".py",
   "mimetype": "text/x-python",
   "name": "python",
   "nbconvert_exporter": "python",
   "pygments_lexer": "ipython2",
   "version": "2.7.12"
  }
 },
 "nbformat": 4,
 "nbformat_minor": 1
}
