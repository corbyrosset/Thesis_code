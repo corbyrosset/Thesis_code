{
 "cells": [
  {
   "cell_type": "code",
   "execution_count": 2,
   "metadata": {
    "collapsed": true
   },
   "outputs": [],
   "source": [
    "### notebook to analyze textual similarity of clueweb instances that share the same entity-relationship-entity triple\n",
    "### uses the 5000 most common triples which are stored in \n",
    "### /Users/corbinrosset/Dropbox/Arora/QA-data/VanDurme_FB_annotations/annotated_clueweb/ClueWeb09_English_1/processed/grouped_textual_triples.pkl\n",
    "\n",
    "\n",
    "\n",
    "from __future__ import division\n",
    "import sys\n",
    "import cPickle as pickle\n",
    "import operator\n",
    "import ast\n",
    "import numpy as np\n",
    "import time\n",
    "import random\n",
    "import itertools\n",
    "\n",
    "###############################################################################\n",
    "###                         \tGlobals                                     ###\n",
    "###############################################################################\n",
    "\n",
    "datafile = 'grouped_textual_triples.pkl'\n",
    "data_path = '/Users/corbinrosset/Dropbox/Arora/QA-data/VanDurme_FB_annotations/annotated_clueweb/ClueWeb09_English_1/processed/'\n",
    "execute_path = '/Users/corbinrosset/Dropbox/Arora/QA-code/'\n",
    "\n",
    "\n"
   ]
  },
  {
   "cell_type": "code",
   "execution_count": 3,
   "metadata": {
    "collapsed": false
   },
   "outputs": [
    {
     "name": "stdout",
     "output_type": "stream",
     "text": [
      "loaded data in:  23.698303\n",
      "4995\n"
     ]
    }
   ],
   "source": [
    "start = time.clock() \n",
    "data = pickle.load(open(data_path + datafile, 'r'))\n",
    "elapsed = time.clock()\n",
    "elapsed = elapsed - start\n",
    "print \"loaded data in: \", elapsed\n",
    "\n",
    "print len(data)"
   ]
  },
  {
   "cell_type": "code",
   "execution_count": 4,
   "metadata": {
    "collapsed": false
   },
   "outputs": [
    {
     "name": "stdout",
     "output_type": "stream",
     "text": [
      "(('Hamas', 'm.03m6j'), ('base.terrorism.terrorist_organization.considered_terrorist_by',), ('Israel', 'm.03spz'))\n",
      "19323\n"
     ]
    }
   ],
   "source": [
    "### most common triple: \"(('Hamas', 'm.03m6j'), ('base.terrorism.terrorist_organization.considered_terrorist_by',), ('Israel', 'm.03spz'))\"\n",
    "key = eval(\"(('Hamas', 'm.03m6j'), ('base.terrorism.terrorist_organization.considered_terrorist_by',), ('Israel', 'm.03spz'))\")\n",
    "print key\n",
    "print len(data[key])\n",
    "keys = [key]"
   ]
  },
  {
   "cell_type": "code",
   "execution_count": 6,
   "metadata": {
    "collapsed": false
   },
   "outputs": [
    {
     "name": "stdout",
     "output_type": "stream",
     "text": [
      "=====\n"
     ]
    },
    {
     "ename": "ValueError",
     "evalue": "a must be 1-dimensional or an integer",
     "output_type": "error",
     "traceback": [
      "\u001b[0;31m---------------------------------------------------------------------------\u001b[0m",
      "\u001b[0;31mValueError\u001b[0m                                Traceback (most recent call last)",
      "\u001b[0;32m<ipython-input-6-5bb21b59383f>\u001b[0m in \u001b[0;36m<module>\u001b[0;34m()\u001b[0m\n\u001b[1;32m      9\u001b[0m \u001b[0;34m\u001b[0m\u001b[0m\n\u001b[1;32m     10\u001b[0m     \u001b[0mpairs\u001b[0m \u001b[0;34m=\u001b[0m \u001b[0mitertools\u001b[0m\u001b[0;34m.\u001b[0m\u001b[0mcombinations\u001b[0m\u001b[0;34m(\u001b[0m\u001b[0mtexts\u001b[0m\u001b[0;34m,\u001b[0m \u001b[0;36m2\u001b[0m\u001b[0;34m)\u001b[0m\u001b[0;34m\u001b[0m\u001b[0m\n\u001b[0;32m---> 11\u001b[0;31m     \u001b[0msamples\u001b[0m \u001b[0;34m=\u001b[0m \u001b[0mnp\u001b[0m\u001b[0;34m.\u001b[0m\u001b[0mrandom\u001b[0m\u001b[0;34m.\u001b[0m\u001b[0mchoice\u001b[0m\u001b[0;34m(\u001b[0m\u001b[0mpairs\u001b[0m\u001b[0;34m,\u001b[0m \u001b[0msize\u001b[0m\u001b[0;34m=\u001b[0m\u001b[0;36m1000000\u001b[0m\u001b[0;34m,\u001b[0m \u001b[0mreplace\u001b[0m\u001b[0;34m=\u001b[0m\u001b[0mFalse\u001b[0m\u001b[0;34m)\u001b[0m\u001b[0;34m\u001b[0m\u001b[0m\n\u001b[0m\u001b[1;32m     12\u001b[0m     \u001b[0;32mprint\u001b[0m \u001b[0mlen\u001b[0m\u001b[0;34m(\u001b[0m\u001b[0msamples\u001b[0m\u001b[0;34m)\u001b[0m\u001b[0;34m\u001b[0m\u001b[0m\n\u001b[1;32m     13\u001b[0m \u001b[0;31m#     counter = 1000 ### <= 1000 2nd positions chosen for each 1st position\u001b[0m\u001b[0;34m\u001b[0m\u001b[0;34m\u001b[0m\u001b[0m\n",
      "\u001b[0;32mmtrand.pyx\u001b[0m in \u001b[0;36mmtrand.RandomState.choice (numpy/random/mtrand/mtrand.c:15359)\u001b[0;34m()\u001b[0m\n",
      "\u001b[0;31mValueError\u001b[0m: a must be 1-dimensional or an integer"
     ]
    }
   ],
   "source": [
    "# print list(data[key])[:100]\n",
    "print '====='\n",
    "prob = 0.01 \n",
    "counter = 0\n",
    "seq1, seq2 = [], []\n",
    "for key in data.keys():\n",
    "    texts = data[key]\n",
    "    pairs = itertools.combinations(texts, 2)\n",
    "    counter = 1000 ### <= 1000 2nd positions chosen for each 1st position\n",
    "    for i, pair in enumerate(pairs):\n",
    "        np.random.choice(texts, size=1000, replace=False)\n",
    "        if random.random() > prob: ### subsample\n",
    "            continue\n",
    "        counter -= 1\n",
    "        if counter <= 0:\n",
    "            break\n",
    "        pair = (pair[0][0].strip().split(), pair[1][0].strip().split())\n",
    "        seq1.append(pair[0])\n",
    "        seq2.append(pair[1])\n",
    "    print counter\n",
    "print 'length of sampled sequence: ' + str(len(seq1))\n",
    "assert len(seq1) == len(seq2)"
   ]
  },
  {
   "cell_type": "code",
   "execution_count": 8,
   "metadata": {
    "collapsed": false
   },
   "outputs": [
    {
     "name": "stdout",
     "output_type": "stream",
     "text": [
      "{'standard deviation': 28.866070047722118, 'mean absolute deviation': 25.0, 'interquartile range': 49.5, 'median': 49.5, 'mean': 49.5}\n"
     ]
    }
   ],
   "source": [
    "from scipy.stats import iqr\n",
    "\n",
    "def get_statistics(lst):\n",
    "    stats = {}\n",
    "    stats['mean'] = np.mean(lst)\n",
    "    stats['median'] = np.median(lst)\n",
    "    # stats['quartiles'] = \n",
    "    stats['standard deviation'] = np.std(lst)\n",
    "    stats['mean absolute deviation'] = np.mean(np.absolute(lst - np.mean(lst)))\n",
    "    stats['interquartile range'] = iqr(lst)\n",
    "\n",
    "#     plt.clera()\n",
    "#     plt.hist(lst, bins=100)\n",
    "#     plt.show()\n",
    "\n",
    "    return stats\n",
    "\n",
    "a = range(100)\n",
    "print get_statistics(a)"
   ]
  },
  {
   "cell_type": "code",
   "execution_count": null,
   "metadata": {
    "collapsed": true
   },
   "outputs": [],
   "source": []
  }
 ],
 "metadata": {
  "kernelspec": {
   "display_name": "Python 2",
   "language": "python",
   "name": "python2"
  },
  "language_info": {
   "codemirror_mode": {
    "name": "ipython",
    "version": 2
   },
   "file_extension": ".py",
   "mimetype": "text/x-python",
   "name": "python",
   "nbconvert_exporter": "python",
   "pygments_lexer": "ipython2",
   "version": "2.7.12"
  }
 },
 "nbformat": 4,
 "nbformat_minor": 1
}
